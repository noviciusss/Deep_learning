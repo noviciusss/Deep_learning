{
 "cells": [
  {
   "cell_type": "code",
   "execution_count": 1,
   "id": "4c8df0af",
   "metadata": {},
   "outputs": [
    {
     "name": "stderr",
     "output_type": "stream",
     "text": [
      "2025-08-29 20:25:45.977674: I tensorflow/core/util/port.cc:153] oneDNN custom operations are on. You may see slightly different numerical results due to floating-point round-off errors from different computation orders. To turn them off, set the environment variable `TF_ENABLE_ONEDNN_OPTS=0`.\n",
      "2025-08-29 20:25:46.594620: I tensorflow/core/platform/cpu_feature_guard.cc:210] This TensorFlow binary is optimized to use available CPU instructions in performance-critical operations.\n",
      "To enable the following instructions: AVX2 AVX_VNNI FMA, in other operations, rebuild TensorFlow with the appropriate compiler flags.\n",
      "2025-08-29 20:25:49.617681: I tensorflow/core/util/port.cc:153] oneDNN custom operations are on. You may see slightly different numerical results due to floating-point round-off errors from different computation orders. To turn them off, set the environment variable `TF_ENABLE_ONEDNN_OPTS=0`.\n"
     ]
    }
   ],
   "source": [
    "import numpy as np\n",
    "import tensorflow as tf\n",
    "from tensorflow.keras.datasets import imdb\n",
    "from tensorflow.keras.preprocessing import sequence\n",
    "from tensorflow.keras.models import Sequential\n",
    "from tensorflow.keras.layers import Embedding,SimpleRNN,Dense\n"
   ]
  },
  {
   "cell_type": "code",
   "execution_count": 2,
   "id": "92298c0d",
   "metadata": {},
   "outputs": [],
   "source": [
    "##Mapping of words index \n",
    "word_index = imdb.get_word_index()\n",
    "reverse_word_index = {value :key for key , value in word_index.items()}"
   ]
  },
  {
   "cell_type": "code",
   "execution_count": 4,
   "id": "74416943",
   "metadata": {},
   "outputs": [
    {
     "name": "stderr",
     "output_type": "stream",
     "text": [
      "WARNING: All log messages before absl::InitializeLog() is called are written to STDERR\n",
      "I0000 00:00:1756499270.211220   29660 gpu_device.cc:2020] Created device /job:localhost/replica:0/task:0/device:GPU:0 with 5561 MB memory:  -> device: 0, name: NVIDIA GeForce RTX 4060 Laptop GPU, pci bus id: 0000:01:00.0, compute capability: 8.9\n",
      "WARNING:absl:Compiled the loaded model, but the compiled metrics have yet to be built. `model.compile_metrics` will be empty until you train or evaluate the model.\n"
     ]
    },
    {
     "data": {
      "text/html": [
       "<pre style=\"white-space:pre;overflow-x:auto;line-height:normal;font-family:Menlo,'DejaVu Sans Mono',consolas,'Courier New',monospace\"><span style=\"font-weight: bold\">Model: \"sequential_4\"</span>\n",
       "</pre>\n"
      ],
      "text/plain": [
       "\u001b[1mModel: \"sequential_4\"\u001b[0m\n"
      ]
     },
     "metadata": {},
     "output_type": "display_data"
    },
    {
     "data": {
      "text/html": [
       "<pre style=\"white-space:pre;overflow-x:auto;line-height:normal;font-family:Menlo,'DejaVu Sans Mono',consolas,'Courier New',monospace\">┏━━━━━━━━━━━━━━━━━━━━━━━━━━━━━━━━━┳━━━━━━━━━━━━━━━━━━━━━━━━┳━━━━━━━━━━━━━━━┓\n",
       "┃<span style=\"font-weight: bold\"> Layer (type)                    </span>┃<span style=\"font-weight: bold\"> Output Shape           </span>┃<span style=\"font-weight: bold\">       Param # </span>┃\n",
       "┡━━━━━━━━━━━━━━━━━━━━━━━━━━━━━━━━━╇━━━━━━━━━━━━━━━━━━━━━━━━╇━━━━━━━━━━━━━━━┩\n",
       "│ embedding_4 (<span style=\"color: #0087ff; text-decoration-color: #0087ff\">Embedding</span>)         │ (<span style=\"color: #00af00; text-decoration-color: #00af00\">32</span>, <span style=\"color: #00af00; text-decoration-color: #00af00\">500</span>, <span style=\"color: #00af00; text-decoration-color: #00af00\">128</span>)         │     <span style=\"color: #00af00; text-decoration-color: #00af00\">1,280,000</span> │\n",
       "├─────────────────────────────────┼────────────────────────┼───────────────┤\n",
       "│ simple_rnn_4 (<span style=\"color: #0087ff; text-decoration-color: #0087ff\">SimpleRNN</span>)        │ (<span style=\"color: #00af00; text-decoration-color: #00af00\">32</span>, <span style=\"color: #00af00; text-decoration-color: #00af00\">128</span>)              │        <span style=\"color: #00af00; text-decoration-color: #00af00\">32,896</span> │\n",
       "├─────────────────────────────────┼────────────────────────┼───────────────┤\n",
       "│ dense_4 (<span style=\"color: #0087ff; text-decoration-color: #0087ff\">Dense</span>)                 │ (<span style=\"color: #00af00; text-decoration-color: #00af00\">32</span>, <span style=\"color: #00af00; text-decoration-color: #00af00\">1</span>)                │           <span style=\"color: #00af00; text-decoration-color: #00af00\">129</span> │\n",
       "└─────────────────────────────────┴────────────────────────┴───────────────┘\n",
       "</pre>\n"
      ],
      "text/plain": [
       "┏━━━━━━━━━━━━━━━━━━━━━━━━━━━━━━━━━┳━━━━━━━━━━━━━━━━━━━━━━━━┳━━━━━━━━━━━━━━━┓\n",
       "┃\u001b[1m \u001b[0m\u001b[1mLayer (type)                   \u001b[0m\u001b[1m \u001b[0m┃\u001b[1m \u001b[0m\u001b[1mOutput Shape          \u001b[0m\u001b[1m \u001b[0m┃\u001b[1m \u001b[0m\u001b[1m      Param #\u001b[0m\u001b[1m \u001b[0m┃\n",
       "┡━━━━━━━━━━━━━━━━━━━━━━━━━━━━━━━━━╇━━━━━━━━━━━━━━━━━━━━━━━━╇━━━━━━━━━━━━━━━┩\n",
       "│ embedding_4 (\u001b[38;5;33mEmbedding\u001b[0m)         │ (\u001b[38;5;34m32\u001b[0m, \u001b[38;5;34m500\u001b[0m, \u001b[38;5;34m128\u001b[0m)         │     \u001b[38;5;34m1,280,000\u001b[0m │\n",
       "├─────────────────────────────────┼────────────────────────┼───────────────┤\n",
       "│ simple_rnn_4 (\u001b[38;5;33mSimpleRNN\u001b[0m)        │ (\u001b[38;5;34m32\u001b[0m, \u001b[38;5;34m128\u001b[0m)              │        \u001b[38;5;34m32,896\u001b[0m │\n",
       "├─────────────────────────────────┼────────────────────────┼───────────────┤\n",
       "│ dense_4 (\u001b[38;5;33mDense\u001b[0m)                 │ (\u001b[38;5;34m32\u001b[0m, \u001b[38;5;34m1\u001b[0m)                │           \u001b[38;5;34m129\u001b[0m │\n",
       "└─────────────────────────────────┴────────────────────────┴───────────────┘\n"
      ]
     },
     "metadata": {},
     "output_type": "display_data"
    },
    {
     "data": {
      "text/html": [
       "<pre style=\"white-space:pre;overflow-x:auto;line-height:normal;font-family:Menlo,'DejaVu Sans Mono',consolas,'Courier New',monospace\"><span style=\"font-weight: bold\"> Total params: </span><span style=\"color: #00af00; text-decoration-color: #00af00\">1,313,027</span> (5.01 MB)\n",
       "</pre>\n"
      ],
      "text/plain": [
       "\u001b[1m Total params: \u001b[0m\u001b[38;5;34m1,313,027\u001b[0m (5.01 MB)\n"
      ]
     },
     "metadata": {},
     "output_type": "display_data"
    },
    {
     "data": {
      "text/html": [
       "<pre style=\"white-space:pre;overflow-x:auto;line-height:normal;font-family:Menlo,'DejaVu Sans Mono',consolas,'Courier New',monospace\"><span style=\"font-weight: bold\"> Trainable params: </span><span style=\"color: #00af00; text-decoration-color: #00af00\">1,313,025</span> (5.01 MB)\n",
       "</pre>\n"
      ],
      "text/plain": [
       "\u001b[1m Trainable params: \u001b[0m\u001b[38;5;34m1,313,025\u001b[0m (5.01 MB)\n"
      ]
     },
     "metadata": {},
     "output_type": "display_data"
    },
    {
     "data": {
      "text/html": [
       "<pre style=\"white-space:pre;overflow-x:auto;line-height:normal;font-family:Menlo,'DejaVu Sans Mono',consolas,'Courier New',monospace\"><span style=\"font-weight: bold\"> Non-trainable params: </span><span style=\"color: #00af00; text-decoration-color: #00af00\">0</span> (0.00 B)\n",
       "</pre>\n"
      ],
      "text/plain": [
       "\u001b[1m Non-trainable params: \u001b[0m\u001b[38;5;34m0\u001b[0m (0.00 B)\n"
      ]
     },
     "metadata": {},
     "output_type": "display_data"
    },
    {
     "data": {
      "text/html": [
       "<pre style=\"white-space:pre;overflow-x:auto;line-height:normal;font-family:Menlo,'DejaVu Sans Mono',consolas,'Courier New',monospace\"><span style=\"font-weight: bold\"> Optimizer params: </span><span style=\"color: #00af00; text-decoration-color: #00af00\">2</span> (12.00 B)\n",
       "</pre>\n"
      ],
      "text/plain": [
       "\u001b[1m Optimizer params: \u001b[0m\u001b[38;5;34m2\u001b[0m (12.00 B)\n"
      ]
     },
     "metadata": {},
     "output_type": "display_data"
    }
   ],
   "source": [
    "###Load the model\n",
    "model = tf.keras.models.load_model('Simple_RNN_imdb.h5')\n",
    "model.summary()"
   ]
  },
  {
   "cell_type": "code",
   "execution_count": 7,
   "id": "6df41a7e",
   "metadata": {},
   "outputs": [
    {
     "data": {
      "text/plain": [
       "[array([[-0.14155954, -0.12827931, -0.3000231 , ..., -0.00736701,\n",
       "          1.0231829 ,  0.12566312],\n",
       "        [-0.02274084, -0.02570872,  0.04386581, ...,  0.05644039,\n",
       "          0.08160345,  0.0040139 ],\n",
       "        [ 0.00155452, -0.0601109 , -0.06229394, ...,  0.03385374,\n",
       "          0.22530176, -0.06634963],\n",
       "        ...,\n",
       "        [ 0.07265773,  0.07009377,  0.15453966, ...,  0.0882788 ,\n",
       "         -0.08076608,  0.05758748],\n",
       "        [ 0.00961295,  0.09079336,  0.10198012, ...,  0.00477098,\n",
       "         -0.03793149,  0.07034796],\n",
       "        [ 0.09801164,  0.09535129,  0.01352332, ...,  0.05875922,\n",
       "         -0.01939676,  0.02929469]], shape=(10000, 128), dtype=float32),\n",
       " array([[ 0.1650656 , -0.06267059,  0.11233418, ..., -0.11762739,\n",
       "         -0.09788001,  0.02669126],\n",
       "        [-0.11242767,  0.13570209,  0.02892954, ..., -0.10074986,\n",
       "         -0.1309563 ,  0.08642565],\n",
       "        [-0.03066739,  0.12222748,  0.10047594, ..., -0.12411908,\n",
       "          0.10265721, -0.08883046],\n",
       "        ...,\n",
       "        [-0.07754461,  0.00995443, -0.11989373, ...,  0.02880745,\n",
       "          0.07348853, -0.01786477],\n",
       "        [-0.18650697, -0.03032939,  0.05869093, ..., -0.19352809,\n",
       "          0.08774218,  0.14412823],\n",
       "        [ 0.08831979, -0.06879468,  0.02378261, ...,  0.05405212,\n",
       "          0.01159144,  0.04167525]], shape=(128, 128), dtype=float32),\n",
       " array([[-0.22653471,  0.2470546 , -0.06114947, ...,  0.00039915,\n",
       "         -0.09798083, -0.05051882],\n",
       "        [-0.04496532, -0.0894146 , -0.02652712, ...,  0.19024356,\n",
       "         -0.14864616, -0.03279804],\n",
       "        [-0.11602335,  0.09995136, -0.14539193, ..., -0.01947142,\n",
       "          0.01240988,  0.00780273],\n",
       "        ...,\n",
       "        [-0.00564832, -0.03970643, -0.07430917, ...,  0.06323653,\n",
       "         -0.06304894, -0.221506  ],\n",
       "        [-0.05423719,  0.04618535,  0.00444705, ...,  0.2975268 ,\n",
       "          0.01406037, -0.10850273],\n",
       "        [ 0.10442872,  0.13793272, -0.16856253, ..., -0.01124071,\n",
       "          0.03240234,  0.02687651]], shape=(128, 128), dtype=float32),\n",
       " array([-0.02666962, -0.00126824, -0.07217234, -0.01019892, -0.0377965 ,\n",
       "        -0.03730782,  0.02608625, -0.04197048, -0.04967846, -0.03840539,\n",
       "        -0.0537296 , -0.00056322, -0.05613775, -0.02471848, -0.04734058,\n",
       "        -0.0750903 , -0.02072314, -0.04208234, -0.03478817,  0.01531344,\n",
       "        -0.03710353,  0.02089116,  0.01549148,  0.02666316, -0.03707911,\n",
       "         0.01412679, -0.05287324,  0.05940096, -0.05086521, -0.02473678,\n",
       "        -0.00153291,  0.0192903 , -0.00537246,  0.05675818,  0.03817941,\n",
       "        -0.05731888,  0.00684885,  0.00557112, -0.03791868,  0.0237579 ,\n",
       "        -0.00632377, -0.03266255, -0.03033437, -0.04316949, -0.02213457,\n",
       "         0.0557136 , -0.08690748, -0.0448256 ,  0.01501107, -0.00274814,\n",
       "        -0.01709001, -0.02386446, -0.0479572 , -0.01880733, -0.04099627,\n",
       "         0.03264277, -0.00683707, -0.01820225, -0.04807977, -0.00470512,\n",
       "         0.02991372, -0.03778127, -0.04683264, -0.03789025, -0.04105924,\n",
       "         0.00613573, -0.00340345,  0.00851186, -0.00401322,  0.00957654,\n",
       "        -0.06135878, -0.00688486, -0.01696739, -0.01765055, -0.00892115,\n",
       "        -0.03912588,  0.00792819, -0.00729887, -0.06557532, -0.00741289,\n",
       "         0.01031701, -0.02596525, -0.01081164,  0.01057748, -0.00439567,\n",
       "        -0.04213743,  0.00189332, -0.04815625,  0.02821787, -0.04601567,\n",
       "        -0.03102621, -0.02008635, -0.00633011, -0.0498562 , -0.01075245,\n",
       "        -0.01175933, -0.00310935, -0.03879637, -0.03741347, -0.01770948,\n",
       "        -0.03921201, -0.05259537,  0.00272377,  0.01343674, -0.07494356,\n",
       "         0.04394296, -0.00831116, -0.00585196, -0.02836956,  0.0205285 ,\n",
       "         0.00601733, -0.04955979, -0.041307  , -0.05149466,  0.0528997 ,\n",
       "         0.00146719, -0.00285479, -0.0441306 , -0.03064212, -0.01258729,\n",
       "         0.00842568, -0.09676263,  0.00446015, -0.01320755, -0.00465747,\n",
       "         0.01507612, -0.0170384 , -0.01176546], dtype=float32),\n",
       " array([[-0.4280757 ],\n",
       "        [ 0.18953918],\n",
       "        [ 0.3087298 ],\n",
       "        [ 0.15116076],\n",
       "        [ 0.18101752],\n",
       "        [ 0.25406677],\n",
       "        [ 0.12030373],\n",
       "        [-0.10450917],\n",
       "        [ 0.17539187],\n",
       "        [-0.24817951],\n",
       "        [ 0.4297569 ],\n",
       "        [-0.6138911 ],\n",
       "        [ 0.18997137],\n",
       "        [-0.09613571],\n",
       "        [ 0.14851536],\n",
       "        [-0.10072323],\n",
       "        [-0.19777733],\n",
       "        [ 0.13085519],\n",
       "        [ 0.08016936],\n",
       "        [-0.15809652],\n",
       "        [-0.06953911],\n",
       "        [-0.00086786],\n",
       "        [-0.20253353],\n",
       "        [ 0.02385304],\n",
       "        [-0.20652686],\n",
       "        [-0.28399554],\n",
       "        [ 0.03750182],\n",
       "        [-0.09798812],\n",
       "        [-0.10952063],\n",
       "        [ 0.18608099],\n",
       "        [-0.10159048],\n",
       "        [-0.09348764],\n",
       "        [-0.15402466],\n",
       "        [-0.07638506],\n",
       "        [ 0.15511392],\n",
       "        [-0.14862606],\n",
       "        [ 0.19797689],\n",
       "        [ 0.13280287],\n",
       "        [ 0.19358967],\n",
       "        [ 0.00637955],\n",
       "        [-0.20797326],\n",
       "        [-0.04752313],\n",
       "        [-0.13535036],\n",
       "        [-0.23023619],\n",
       "        [ 0.13516118],\n",
       "        [ 0.22659628],\n",
       "        [ 0.16020292],\n",
       "        [-0.05696325],\n",
       "        [-0.6922792 ],\n",
       "        [ 0.03159497],\n",
       "        [-0.41769096],\n",
       "        [-0.20796175],\n",
       "        [ 0.38571468],\n",
       "        [-0.1889939 ],\n",
       "        [ 0.10401521],\n",
       "        [-0.20194674],\n",
       "        [-0.03517301],\n",
       "        [ 0.2229417 ],\n",
       "        [-0.04439572],\n",
       "        [-0.07972593],\n",
       "        [-0.19857477],\n",
       "        [ 0.08114608],\n",
       "        [ 0.17369503],\n",
       "        [ 0.05261301],\n",
       "        [ 0.1449927 ],\n",
       "        [ 0.15206765],\n",
       "        [-0.0803137 ],\n",
       "        [-0.07447801],\n",
       "        [-0.0916364 ],\n",
       "        [-0.24227919],\n",
       "        [ 0.25011453],\n",
       "        [-0.15577604],\n",
       "        [-0.10486999],\n",
       "        [-0.04736547],\n",
       "        [-0.20316227],\n",
       "        [ 0.11145495],\n",
       "        [-0.11898517],\n",
       "        [-0.09162544],\n",
       "        [ 0.16576181],\n",
       "        [-0.1551323 ],\n",
       "        [-0.10890173],\n",
       "        [-0.07998604],\n",
       "        [-0.134809  ],\n",
       "        [ 0.03881671],\n",
       "        [ 0.23964524],\n",
       "        [-0.01521789],\n",
       "        [-0.22370969],\n",
       "        [ 0.09475841],\n",
       "        [-0.13241237],\n",
       "        [ 0.35225117],\n",
       "        [ 0.31578496],\n",
       "        [-0.02968536],\n",
       "        [-0.00586828],\n",
       "        [ 0.11569148],\n",
       "        [-0.08177576],\n",
       "        [ 0.18855068],\n",
       "        [-0.11973009],\n",
       "        [ 0.13162787],\n",
       "        [ 0.05978584],\n",
       "        [ 0.26599845],\n",
       "        [ 0.13481905],\n",
       "        [-0.08311152],\n",
       "        [ 0.24844074],\n",
       "        [ 0.09871394],\n",
       "        [ 0.20896932],\n",
       "        [ 0.05543682],\n",
       "        [-0.06337191],\n",
       "        [ 0.07893603],\n",
       "        [ 0.40403068],\n",
       "        [ 0.08679684],\n",
       "        [ 0.10387094],\n",
       "        [ 0.17212805],\n",
       "        [ 0.7955951 ],\n",
       "        [ 0.18076815],\n",
       "        [ 0.05658504],\n",
       "        [ 0.01488725],\n",
       "        [-0.14031087],\n",
       "        [ 0.16968246],\n",
       "        [ 0.15927875],\n",
       "        [ 0.07782747],\n",
       "        [-0.0322706 ],\n",
       "        [-0.1501857 ],\n",
       "        [-0.20264858],\n",
       "        [-0.32387656],\n",
       "        [-0.14736308],\n",
       "        [-0.12982836],\n",
       "        [-0.00580961],\n",
       "        [ 0.12258621]], dtype=float32),\n",
       " array([1.3542025], dtype=float32)]"
      ]
     },
     "execution_count": 7,
     "metadata": {},
     "output_type": "execute_result"
    }
   ],
   "source": [
    "model.get_weights()"
   ]
  },
  {
   "cell_type": "code",
   "execution_count": 8,
   "id": "cab0ed13",
   "metadata": {},
   "outputs": [],
   "source": [
    "###Step 2-helper Function\n",
    "def decode_review(endcoded_review):\n",
    "    return ' '.join([reverse_word_index.get(i-3, '?') for i in endcoded_review])\n",
    "\n",
    "def preprocess_review(text):\n",
    "    words = text.lower().split()\n",
    "    endoded_review =[word_index.get(word,2)+3 for word in words]\n",
    "    padded_review = sequence.pad_sequences([endoded_review], maxlen=500)\n",
    "    return padded_review\n"
   ]
  },
  {
   "cell_type": "code",
   "execution_count": null,
   "id": "8e277c89",
   "metadata": {},
   "outputs": [],
   "source": [
    "###Predicton function\n",
    "\n",
    "def predict_sentiment(review):\n",
    "    preprocess = preprocess_review(review)\n",
    "    models_prediction = model.predict(preprocess)\n",
    "    \n",
    "    sentiment = 'Positive' if models_prediction[0][0]>0.5 else 'Negative'\n",
    "    return sentiment, float(models_prediction[0][0])"
   ]
  },
  {
   "cell_type": "code",
   "execution_count": 10,
   "id": "fa137850",
   "metadata": {},
   "outputs": [
    {
     "name": "stderr",
     "output_type": "stream",
     "text": [
      "2025-08-29 20:47:08.353377: I external/local_xla/xla/service/service.cc:163] XLA service 0x7508100e36a0 initialized for platform CUDA (this does not guarantee that XLA will be used). Devices:\n",
      "2025-08-29 20:47:08.353596: I external/local_xla/xla/service/service.cc:171]   StreamExecutor device (0): NVIDIA GeForce RTX 4060 Laptop GPU, Compute Capability 8.9\n",
      "2025-08-29 20:47:08.425906: I tensorflow/compiler/mlir/tensorflow/utils/dump_mlir_util.cc:269] disabling MLIR crash reproducer, set env var `MLIR_CRASH_REPRODUCER_DIRECTORY` to enable.\n",
      "2025-08-29 20:47:08.549094: I external/local_xla/xla/stream_executor/cuda/cuda_dnn.cc:473] Loaded cuDNN version 91200\n"
     ]
    },
    {
     "name": "stdout",
     "output_type": "stream",
     "text": [
      "\u001b[1m1/1\u001b[0m \u001b[32m━━━━━━━━━━━━━━━━━━━━\u001b[0m\u001b[37m\u001b[0m \u001b[1m1s\u001b[0m 991ms/step\n",
      "('Positive', 0.7912697196006775)\n"
     ]
    },
    {
     "name": "stderr",
     "output_type": "stream",
     "text": [
      "I0000 00:00:1756500429.045837   30072 device_compiler.h:196] Compiled cluster using XLA!  This line is logged at most once for the lifetime of the process.\n"
     ]
    }
   ],
   "source": [
    "example_review = \"This movie was just amazing, with stunning visuals and a gripping storyline that kept me on the edge of my seat from start to finish.\"\n",
    "\n",
    "print(predict_sentiment(example_review))"
   ]
  },
  {
   "cell_type": "code",
   "execution_count": null,
   "id": "889a3ecd",
   "metadata": {},
   "outputs": [],
   "source": []
  }
 ],
 "metadata": {
  "kernelspec": {
   "display_name": "tf-gpu",
   "language": "python",
   "name": "python3"
  },
  "language_info": {
   "codemirror_mode": {
    "name": "ipython",
    "version": 3
   },
   "file_extension": ".py",
   "mimetype": "text/x-python",
   "name": "python",
   "nbconvert_exporter": "python",
   "pygments_lexer": "ipython3",
   "version": "3.13.5"
  }
 },
 "nbformat": 4,
 "nbformat_minor": 5
}
