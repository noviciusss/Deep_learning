{
 "cells": [
  {
   "cell_type": "code",
   "execution_count": 14,
   "id": "4c8df0af",
   "metadata": {},
   "outputs": [],
   "source": [
    "import numpy as np\n",
    "import tensorflow as tf\n",
    "from tensorflow.keras.datasets import imdb\n",
    "from tensorflow.keras.preprocessing import sequence\n",
    "from tensorflow.keras.models import Sequential\n",
    "from tensorflow.keras.layers import Embedding,SimpleRNN,Dense\n"
   ]
  },
  {
   "cell_type": "code",
   "execution_count": 15,
   "id": "92298c0d",
   "metadata": {},
   "outputs": [],
   "source": [
    "##Mapping of words index \n",
    "word_index = imdb.get_word_index()\n",
    "reverse_word_index = {value :key for key , value in word_index.items()}"
   ]
  },
  {
   "cell_type": "code",
   "execution_count": 16,
   "id": "74416943",
   "metadata": {},
   "outputs": [
    {
     "name": "stderr",
     "output_type": "stream",
     "text": [
      "WARNING:absl:Compiled the loaded model, but the compiled metrics have yet to be built. `model.compile_metrics` will be empty until you train or evaluate the model.\n"
     ]
    },
    {
     "data": {
      "text/html": [
       "<pre style=\"white-space:pre;overflow-x:auto;line-height:normal;font-family:Menlo,'DejaVu Sans Mono',consolas,'Courier New',monospace\"><span style=\"font-weight: bold\">Model: \"sequential\"</span>\n",
       "</pre>\n"
      ],
      "text/plain": [
       "\u001b[1mModel: \"sequential\"\u001b[0m\n"
      ]
     },
     "metadata": {},
     "output_type": "display_data"
    },
    {
     "data": {
      "text/html": [
       "<pre style=\"white-space:pre;overflow-x:auto;line-height:normal;font-family:Menlo,'DejaVu Sans Mono',consolas,'Courier New',monospace\">┏━━━━━━━━━━━━━━━━━━━━━━━━━━━━━━━━━┳━━━━━━━━━━━━━━━━━━━━━━━━┳━━━━━━━━━━━━━━━┓\n",
       "┃<span style=\"font-weight: bold\"> Layer (type)                    </span>┃<span style=\"font-weight: bold\"> Output Shape           </span>┃<span style=\"font-weight: bold\">       Param # </span>┃\n",
       "┡━━━━━━━━━━━━━━━━━━━━━━━━━━━━━━━━━╇━━━━━━━━━━━━━━━━━━━━━━━━╇━━━━━━━━━━━━━━━┩\n",
       "│ embedding (<span style=\"color: #0087ff; text-decoration-color: #0087ff\">Embedding</span>)           │ (<span style=\"color: #00d7ff; text-decoration-color: #00d7ff\">None</span>, <span style=\"color: #00af00; text-decoration-color: #00af00\">2500</span>, <span style=\"color: #00af00; text-decoration-color: #00af00\">128</span>)      │     <span style=\"color: #00af00; text-decoration-color: #00af00\">3,840,000</span> │\n",
       "├─────────────────────────────────┼────────────────────────┼───────────────┤\n",
       "│ simple_rnn (<span style=\"color: #0087ff; text-decoration-color: #0087ff\">SimpleRNN</span>)          │ (<span style=\"color: #00d7ff; text-decoration-color: #00d7ff\">None</span>, <span style=\"color: #00af00; text-decoration-color: #00af00\">128</span>)            │        <span style=\"color: #00af00; text-decoration-color: #00af00\">32,896</span> │\n",
       "├─────────────────────────────────┼────────────────────────┼───────────────┤\n",
       "│ dense (<span style=\"color: #0087ff; text-decoration-color: #0087ff\">Dense</span>)                   │ (<span style=\"color: #00d7ff; text-decoration-color: #00d7ff\">None</span>, <span style=\"color: #00af00; text-decoration-color: #00af00\">1</span>)              │           <span style=\"color: #00af00; text-decoration-color: #00af00\">129</span> │\n",
       "└─────────────────────────────────┴────────────────────────┴───────────────┘\n",
       "</pre>\n"
      ],
      "text/plain": [
       "┏━━━━━━━━━━━━━━━━━━━━━━━━━━━━━━━━━┳━━━━━━━━━━━━━━━━━━━━━━━━┳━━━━━━━━━━━━━━━┓\n",
       "┃\u001b[1m \u001b[0m\u001b[1mLayer (type)                   \u001b[0m\u001b[1m \u001b[0m┃\u001b[1m \u001b[0m\u001b[1mOutput Shape          \u001b[0m\u001b[1m \u001b[0m┃\u001b[1m \u001b[0m\u001b[1m      Param #\u001b[0m\u001b[1m \u001b[0m┃\n",
       "┡━━━━━━━━━━━━━━━━━━━━━━━━━━━━━━━━━╇━━━━━━━━━━━━━━━━━━━━━━━━╇━━━━━━━━━━━━━━━┩\n",
       "│ embedding (\u001b[38;5;33mEmbedding\u001b[0m)           │ (\u001b[38;5;45mNone\u001b[0m, \u001b[38;5;34m2500\u001b[0m, \u001b[38;5;34m128\u001b[0m)      │     \u001b[38;5;34m3,840,000\u001b[0m │\n",
       "├─────────────────────────────────┼────────────────────────┼───────────────┤\n",
       "│ simple_rnn (\u001b[38;5;33mSimpleRNN\u001b[0m)          │ (\u001b[38;5;45mNone\u001b[0m, \u001b[38;5;34m128\u001b[0m)            │        \u001b[38;5;34m32,896\u001b[0m │\n",
       "├─────────────────────────────────┼────────────────────────┼───────────────┤\n",
       "│ dense (\u001b[38;5;33mDense\u001b[0m)                   │ (\u001b[38;5;45mNone\u001b[0m, \u001b[38;5;34m1\u001b[0m)              │           \u001b[38;5;34m129\u001b[0m │\n",
       "└─────────────────────────────────┴────────────────────────┴───────────────┘\n"
      ]
     },
     "metadata": {},
     "output_type": "display_data"
    },
    {
     "data": {
      "text/html": [
       "<pre style=\"white-space:pre;overflow-x:auto;line-height:normal;font-family:Menlo,'DejaVu Sans Mono',consolas,'Courier New',monospace\"><span style=\"font-weight: bold\"> Total params: </span><span style=\"color: #00af00; text-decoration-color: #00af00\">3,873,027</span> (14.77 MB)\n",
       "</pre>\n"
      ],
      "text/plain": [
       "\u001b[1m Total params: \u001b[0m\u001b[38;5;34m3,873,027\u001b[0m (14.77 MB)\n"
      ]
     },
     "metadata": {},
     "output_type": "display_data"
    },
    {
     "data": {
      "text/html": [
       "<pre style=\"white-space:pre;overflow-x:auto;line-height:normal;font-family:Menlo,'DejaVu Sans Mono',consolas,'Courier New',monospace\"><span style=\"font-weight: bold\"> Trainable params: </span><span style=\"color: #00af00; text-decoration-color: #00af00\">3,873,025</span> (14.77 MB)\n",
       "</pre>\n"
      ],
      "text/plain": [
       "\u001b[1m Trainable params: \u001b[0m\u001b[38;5;34m3,873,025\u001b[0m (14.77 MB)\n"
      ]
     },
     "metadata": {},
     "output_type": "display_data"
    },
    {
     "data": {
      "text/html": [
       "<pre style=\"white-space:pre;overflow-x:auto;line-height:normal;font-family:Menlo,'DejaVu Sans Mono',consolas,'Courier New',monospace\"><span style=\"font-weight: bold\"> Non-trainable params: </span><span style=\"color: #00af00; text-decoration-color: #00af00\">0</span> (0.00 B)\n",
       "</pre>\n"
      ],
      "text/plain": [
       "\u001b[1m Non-trainable params: \u001b[0m\u001b[38;5;34m0\u001b[0m (0.00 B)\n"
      ]
     },
     "metadata": {},
     "output_type": "display_data"
    },
    {
     "data": {
      "text/html": [
       "<pre style=\"white-space:pre;overflow-x:auto;line-height:normal;font-family:Menlo,'DejaVu Sans Mono',consolas,'Courier New',monospace\"><span style=\"font-weight: bold\"> Optimizer params: </span><span style=\"color: #00af00; text-decoration-color: #00af00\">2</span> (12.00 B)\n",
       "</pre>\n"
      ],
      "text/plain": [
       "\u001b[1m Optimizer params: \u001b[0m\u001b[38;5;34m2\u001b[0m (12.00 B)\n"
      ]
     },
     "metadata": {},
     "output_type": "display_data"
    }
   ],
   "source": [
    "###Load the model\n",
    "model = tf.keras.models.load_model('Simple_RNN_imdb.h5')\n",
    "model.summary()"
   ]
  },
  {
   "cell_type": "code",
   "execution_count": 17,
   "id": "6df41a7e",
   "metadata": {},
   "outputs": [
    {
     "data": {
      "text/plain": [
       "[array([[-0.04784405,  0.05354284, -0.0399468 , ...,  0.0136449 ,\n",
       "          0.02400948, -0.03436881],\n",
       "        [-0.02740226,  0.04749057, -0.03352843, ...,  0.00513046,\n",
       "          0.02135923,  0.02286039],\n",
       "        [ 0.0063851 ,  0.09629676,  0.01468128, ...,  0.02598275,\n",
       "         -0.04417228,  0.03046189],\n",
       "        ...,\n",
       "        [-0.01240644,  0.07225703, -0.03861852, ..., -0.03077868,\n",
       "         -0.07364631,  0.05678886],\n",
       "        [-0.13928881, -0.17264102, -0.08304618, ...,  0.06530827,\n",
       "         -0.13422492,  0.03600203],\n",
       "        [ 0.0027373 , -0.06053567,  0.03757445, ...,  0.0023441 ,\n",
       "          0.00938721,  0.00188647]], shape=(30000, 128), dtype=float32),\n",
       " array([[ 0.0956552 , -0.04654504, -0.07512464, ..., -0.15252367,\n",
       "         -0.1225533 , -0.05803705],\n",
       "        [-0.11639975, -0.0491041 , -0.08950243, ...,  0.02270527,\n",
       "          0.02540044, -0.04216105],\n",
       "        [-0.06863653,  0.13346988, -0.11719614, ..., -0.07432747,\n",
       "         -0.05308507,  0.06834874],\n",
       "        ...,\n",
       "        [-0.10445473, -0.06144889,  0.04663777, ..., -0.07551873,\n",
       "          0.12307257,  0.17584407],\n",
       "        [-0.09169265, -0.08019761, -0.0270523 , ...,  0.00841791,\n",
       "         -0.11904453,  0.01948659],\n",
       "        [ 0.11924829, -0.01561388,  0.03478958, ...,  0.06054651,\n",
       "          0.13528617, -0.12921111]], shape=(128, 128), dtype=float32),\n",
       " array([[ 0.01432337, -0.09364262, -0.02005182, ...,  0.02914385,\n",
       "          0.02302081, -0.0562169 ],\n",
       "        [-0.02470403,  0.03716788,  0.10523656, ..., -0.02847026,\n",
       "          0.05432053,  0.08307874],\n",
       "        [-0.12990697, -0.02057315,  0.1808056 , ..., -0.00308479,\n",
       "         -0.03195583, -0.04327652],\n",
       "        ...,\n",
       "        [-0.01486445, -0.05557058, -0.06094832, ...,  0.00608935,\n",
       "         -0.01346236,  0.01429957],\n",
       "        [ 0.09599341, -0.0021679 ,  0.03582358, ..., -0.1279337 ,\n",
       "          0.01133376,  0.06392511],\n",
       "        [ 0.01571196,  0.13006473,  0.08157689, ..., -0.10091535,\n",
       "         -0.04303505,  0.0749663 ]], shape=(128, 128), dtype=float32),\n",
       " array([-1.6597023e-02, -2.3775766e-02,  2.7246607e-02,  4.1534631e-03,\n",
       "         1.4551866e-02, -2.9984888e-02,  3.6330666e-02,  2.5411401e-02,\n",
       "        -1.7315246e-02,  7.5493106e-03, -2.0150064e-02, -3.7915658e-04,\n",
       "        -2.7779846e-02,  2.6881112e-02, -2.4306194e-03, -1.5686763e-02,\n",
       "        -1.8538972e-02, -1.0094073e-02, -1.4102621e-02,  2.2611931e-02,\n",
       "         1.1603353e-02,  9.4619552e-03,  3.3567995e-02,  2.8087791e-02,\n",
       "        -3.7756883e-05,  2.9219007e-02, -8.4240390e-03, -5.8908467e-03,\n",
       "         1.3013174e-02, -1.4878248e-02,  3.0255677e-02, -2.5952376e-02,\n",
       "         2.6341474e-02, -2.9995538e-02, -2.3188164e-02,  1.2232232e-02,\n",
       "         7.3944414e-03, -1.3063531e-02,  1.9167932e-02,  2.4262510e-02,\n",
       "         3.3651106e-03,  3.3228334e-02,  1.6132234e-02,  1.0000855e-02,\n",
       "        -6.6846283e-03, -1.9555701e-02, -5.2016559e-03, -2.5288973e-02,\n",
       "        -2.3565359e-02, -1.7566135e-02,  8.2979919e-03, -8.9967912e-03,\n",
       "         1.1104758e-02,  8.1979046e-03,  5.4446240e-03, -1.9431943e-02,\n",
       "        -2.5574742e-02, -1.9759342e-02,  1.6699923e-02,  2.8584234e-02,\n",
       "        -2.5256345e-02, -2.5988834e-03,  1.1565086e-02,  8.4842937e-03,\n",
       "        -2.3871832e-02,  1.7918193e-03,  1.5709992e-02,  1.4189893e-02,\n",
       "        -2.2102654e-02, -2.1599175e-02, -1.9262211e-02,  1.7097281e-02,\n",
       "        -2.2737550e-02, -1.3639351e-02, -1.8839944e-02, -1.6434949e-02,\n",
       "        -2.9464196e-02,  3.6862150e-02,  5.2272193e-03, -2.5108909e-02,\n",
       "         1.7252292e-02,  8.2566049e-03,  1.6636565e-02, -2.4243256e-02,\n",
       "         5.8689290e-03,  7.5134216e-03,  2.9935502e-02, -2.8533401e-02,\n",
       "        -3.1673580e-02, -3.2068556e-03, -5.3425715e-03, -2.9261686e-02,\n",
       "         1.2651263e-02, -2.9616680e-02, -2.1647304e-02, -3.7846480e-02,\n",
       "        -1.9383481e-02, -3.0425157e-02, -1.1298429e-02,  1.9239742e-02,\n",
       "         1.2484711e-02, -1.4842842e-03,  4.2958017e-03, -2.1582641e-02,\n",
       "         2.7058644e-02,  2.8418373e-02, -1.9413201e-02,  2.5019120e-02,\n",
       "        -2.5632495e-02,  1.3401595e-02,  4.1603174e-02,  2.4572529e-02,\n",
       "        -2.2031741e-02, -2.7011858e-02, -1.8599773e-02,  1.4024081e-02,\n",
       "         2.3985907e-02, -2.2278221e-02, -1.5465580e-02, -1.2953978e-02,\n",
       "         2.2099411e-02, -1.5682571e-02, -1.4316872e-02,  7.7110217e-03,\n",
       "        -2.4571097e-02,  6.2411129e-03, -1.5083868e-02,  5.9014102e-03],\n",
       "       dtype=float32),\n",
       " array([[-0.09512194],\n",
       "        [-0.03720556],\n",
       "        [ 0.10846567],\n",
       "        [-0.06651615],\n",
       "        [-0.22292021],\n",
       "        [-0.08859073],\n",
       "        [-0.690378  ],\n",
       "        [ 0.24966452],\n",
       "        [-0.10281398],\n",
       "        [-0.5891741 ],\n",
       "        [-1.081711  ],\n",
       "        [-0.06376604],\n",
       "        [-0.21759085],\n",
       "        [ 0.35516822],\n",
       "        [ 0.46149462],\n",
       "        [ 0.104765  ],\n",
       "        [ 0.09534413],\n",
       "        [-0.12283508],\n",
       "        [ 0.5808746 ],\n",
       "        [-0.21453923],\n",
       "        [ 0.09097911],\n",
       "        [-0.18975346],\n",
       "        [-0.44155228],\n",
       "        [ 0.03993588],\n",
       "        [-0.13437836],\n",
       "        [ 0.09551047],\n",
       "        [-0.0749763 ],\n",
       "        [ 0.24438898],\n",
       "        [-0.15349638],\n",
       "        [-0.20465024],\n",
       "        [ 0.24825591],\n",
       "        [-0.07988334],\n",
       "        [ 0.06498163],\n",
       "        [-0.44901052],\n",
       "        [-0.06020109],\n",
       "        [-0.07246367],\n",
       "        [-0.20392989],\n",
       "        [-0.36294284],\n",
       "        [-0.15698236],\n",
       "        [-0.65556544],\n",
       "        [ 0.4456564 ],\n",
       "        [ 0.22495084],\n",
       "        [ 0.01557557],\n",
       "        [-0.02836956],\n",
       "        [-0.3186164 ],\n",
       "        [ 0.13005933],\n",
       "        [-1.1808985 ],\n",
       "        [ 0.2704137 ],\n",
       "        [ 0.07401469],\n",
       "        [-0.03792564],\n",
       "        [ 0.10403632],\n",
       "        [ 0.20319508],\n",
       "        [ 0.07674494],\n",
       "        [-0.12307111],\n",
       "        [ 0.17170279],\n",
       "        [-0.0338513 ],\n",
       "        [ 0.01069148],\n",
       "        [ 0.04277802],\n",
       "        [-0.13850766],\n",
       "        [ 0.36509955],\n",
       "        [-0.17978175],\n",
       "        [ 0.15543456],\n",
       "        [-0.2065659 ],\n",
       "        [-0.66592735],\n",
       "        [-0.21727942],\n",
       "        [ 0.48083508],\n",
       "        [-0.07162342],\n",
       "        [-0.03568876],\n",
       "        [-0.00771839],\n",
       "        [-0.489321  ],\n",
       "        [ 0.17363071],\n",
       "        [ 0.52514106],\n",
       "        [-0.00682975],\n",
       "        [ 0.04721155],\n",
       "        [-0.01079904],\n",
       "        [ 0.07526671],\n",
       "        [-0.3850966 ],\n",
       "        [ 0.12133931],\n",
       "        [-0.17702027],\n",
       "        [-0.23428698],\n",
       "        [-0.15860407],\n",
       "        [-0.11387794],\n",
       "        [ 0.07966318],\n",
       "        [ 0.1916078 ],\n",
       "        [-0.07326753],\n",
       "        [-0.19786422],\n",
       "        [ 0.30471155],\n",
       "        [-0.11217815],\n",
       "        [ 0.10664266],\n",
       "        [-0.21261868],\n",
       "        [-0.1195528 ],\n",
       "        [-0.11676745],\n",
       "        [-0.23506016],\n",
       "        [-0.3020855 ],\n",
       "        [-0.12360773],\n",
       "        [-0.13250895],\n",
       "        [ 0.38491908],\n",
       "        [-0.61987746],\n",
       "        [ 0.02540284],\n",
       "        [-0.00448912],\n",
       "        [-0.0023259 ],\n",
       "        [ 0.34240285],\n",
       "        [-0.18956178],\n",
       "        [-0.41340363],\n",
       "        [-1.9727347 ],\n",
       "        [-0.16147242],\n",
       "        [-0.01397417],\n",
       "        [ 0.04151   ],\n",
       "        [-0.41494295],\n",
       "        [-1.7099663 ],\n",
       "        [ 0.14270394],\n",
       "        [-1.9420694 ],\n",
       "        [ 0.14807065],\n",
       "        [-0.12140112],\n",
       "        [-0.3931427 ],\n",
       "        [-0.0823841 ],\n",
       "        [-0.2660729 ],\n",
       "        [-0.05689451],\n",
       "        [-0.4867007 ],\n",
       "        [-0.24992001],\n",
       "        [-1.8978275 ],\n",
       "        [-0.16817546],\n",
       "        [ 0.19992918],\n",
       "        [-0.02747607],\n",
       "        [-0.15389994],\n",
       "        [-0.52989763],\n",
       "        [ 0.12688895],\n",
       "        [-0.10401828]], dtype=float32),\n",
       " array([-0.9925562], dtype=float32)]"
      ]
     },
     "execution_count": 17,
     "metadata": {},
     "output_type": "execute_result"
    }
   ],
   "source": [
    "model.get_weights()"
   ]
  },
  {
   "cell_type": "code",
   "execution_count": 18,
   "id": "cab0ed13",
   "metadata": {},
   "outputs": [],
   "source": [
    "###Step 2-helper Function\n",
    "def decode_review(endcoded_review):\n",
    "    return ' '.join([reverse_word_index.get(i-3, '?') for i in endcoded_review])\n",
    "\n",
    "def preprocess_review(text):\n",
    "    words = text.lower().split()\n",
    "    endoded_review =[word_index.get(word,2)+3 for word in words]\n",
    "    padded_review = sequence.pad_sequences([endoded_review], maxlen=500)\n",
    "    return padded_review\n"
   ]
  },
  {
   "cell_type": "code",
   "execution_count": 9,
   "id": "8e277c89",
   "metadata": {},
   "outputs": [],
   "source": [
    "###Predicton function\n",
    "\n",
    "def predict_sentiment(review):\n",
    "    preprocess = preprocess_review(review)\n",
    "    models_prediction = model.predict(preprocess)\n",
    "    \n",
    "    sentiment = 'Positive' if models_prediction[0][0]>0.5 else 'Negative'\n",
    "    return sentiment, float(models_prediction[0][0])"
   ]
  },
  {
   "cell_type": "code",
   "execution_count": 19,
   "id": "fa137850",
   "metadata": {},
   "outputs": [
    {
     "name": "stdout",
     "output_type": "stream",
     "text": [
      "\u001b[1m1/1\u001b[0m \u001b[32m━━━━━━━━━━━━━━━━━━━━\u001b[0m\u001b[37m\u001b[0m \u001b[1m1s\u001b[0m 853ms/step\n",
      "('Positive', 0.8215692043304443)\n",
      "\u001b[1m1/1\u001b[0m \u001b[32m━━━━━━━━━━━━━━━━━━━━\u001b[0m\u001b[37m\u001b[0m \u001b[1m1s\u001b[0m 853ms/step\n",
      "('Positive', 0.8215692043304443)\n"
     ]
    }
   ],
   "source": [
    "example_review = \"This movie was just amazing, with stunning visuals and a gripping storyline that kept me on the edge of my seat from start to finish.\"\n",
    "\n",
    "print(predict_sentiment(example_review))"
   ]
  },
  {
   "cell_type": "code",
   "execution_count": 20,
   "id": "889a3ecd",
   "metadata": {},
   "outputs": [
    {
     "name": "stdout",
     "output_type": "stream",
     "text": [
      "Testing problematic review:\n",
      "Review: This movie was absolutely amazing! The acting was superb and the story was captivating.\n",
      "Words: ['this', 'movie', 'was', 'absolutely', 'amazing!', 'the', 'acting', 'was', 'superb', 'and', 'the', 'story', 'was', 'captivating.']\n",
      "Recognized words: ['this', 'movie', 'was', 'absolutely', 'amazing', 'the', 'acting', 'was', 'superb', 'and', 'the', 'story', 'was', 'captivating']\n",
      "Unknown words: []\n",
      "\u001b[1m1/1\u001b[0m \u001b[32m━━━━━━━━━━━━━━━━━━━━\u001b[0m\u001b[37m\u001b[0m \u001b[1m0s\u001b[0m 72ms/step\n",
      "\u001b[1m1/1\u001b[0m \u001b[32m━━━━━━━━━━━━━━━━━━━━\u001b[0m\u001b[37m\u001b[0m \u001b[1m0s\u001b[0m 72ms/step\n",
      "Prediction: ('Positive', 0.7123380899429321)\n",
      "\n",
      "Is 'loved' in vocabulary? True\n",
      "Is 'love' in vocabulary? True\n",
      "'love' index: 116\n",
      "'loved' index: 444\n",
      "Prediction: ('Positive', 0.7123380899429321)\n",
      "\n",
      "Is 'loved' in vocabulary? True\n",
      "Is 'love' in vocabulary? True\n",
      "'love' index: 116\n",
      "'loved' index: 444\n"
     ]
    }
   ],
   "source": [
    "# Test the problematic review that should be positive but shows as negative\n",
    "problematic_review = \"This movie was absolutely amazing! The acting was superb and the story was captivating.\"\n",
    "\n",
    "print(\"Testing problematic review:\")\n",
    "print(f\"Review: {problematic_review}\")\n",
    "\n",
    "# Check word recognition\n",
    "words = problematic_review.lower().split()\n",
    "print(f\"Words: {words}\")\n",
    "\n",
    "# Check which words are in vocabulary\n",
    "recognized_words = []\n",
    "unknown_words = []\n",
    "\n",
    "for word in words:\n",
    "    clean_word = word.strip('!.,')  # Remove punctuation\n",
    "    if clean_word in word_index:\n",
    "        recognized_words.append(clean_word)\n",
    "    else:\n",
    "        unknown_words.append(clean_word)\n",
    "\n",
    "print(f\"Recognized words: {recognized_words}\")\n",
    "print(f\"Unknown words: {unknown_words}\")\n",
    "\n",
    "# Get prediction\n",
    "result = predict_sentiment(problematic_review)\n",
    "print(f\"Prediction: {result}\")\n",
    "\n",
    "# Let's also test if 'loved' is in the vocabulary\n",
    "print(f\"\\nIs 'loved' in vocabulary? {'loved' in word_index}\")\n",
    "print(f\"Is 'love' in vocabulary? {'love' in word_index}\")\n",
    "if 'love' in word_index:\n",
    "    print(f\"'love' index: {word_index['love']}\")\n",
    "if 'loved' in word_index:\n",
    "    print(f\"'loved' index: {word_index['loved']}\")"
   ]
  },
  {
   "cell_type": "code",
   "execution_count": null,
   "id": "d531d6cd",
   "metadata": {},
   "outputs": [],
   "source": []
  }
 ],
 "metadata": {
  "kernelspec": {
   "display_name": "tf-gpu",
   "language": "python",
   "name": "python3"
  },
  "language_info": {
   "codemirror_mode": {
    "name": "ipython",
    "version": 3
   },
   "file_extension": ".py",
   "mimetype": "text/x-python",
   "name": "python",
   "nbconvert_exporter": "python",
   "pygments_lexer": "ipython3",
   "version": "3.13.5"
  }
 },
 "nbformat": 4,
 "nbformat_minor": 5
}
